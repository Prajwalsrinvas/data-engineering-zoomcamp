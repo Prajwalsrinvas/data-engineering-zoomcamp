{
 "cells": [
  {
   "cell_type": "code",
   "execution_count": 1,
   "id": "07de9dc3",
   "metadata": {},
   "outputs": [],
   "source": [
    "import pandas as pd\n",
    "from pyspark.sql import SparkSession\n",
    "from pyspark.sql import functions as F\n",
    "from pyspark.sql import types"
   ]
  },
  {
   "cell_type": "code",
   "execution_count": 2,
   "id": "ca5bbb06",
   "metadata": {},
   "outputs": [
    {
     "name": "stderr",
     "output_type": "stream",
     "text": [
      "Setting default log level to \"WARN\".\n",
      "To adjust logging level use sc.setLogLevel(newLevel). For SparkR, use setLogLevel(newLevel).\n"
     ]
    },
    {
     "name": "stdout",
     "output_type": "stream",
     "text": [
      "23/03/09 16:13:28 WARN NativeCodeLoader: Unable to load native-hadoop library for your platform... using builtin-java classes where applicable\n"
     ]
    }
   ],
   "source": [
    "spark = SparkSession.builder.master(\"local[*]\").appName(\"test\").getOrCreate()"
   ]
  },
  {
   "cell_type": "code",
   "execution_count": 3,
   "id": "cf8de204",
   "metadata": {},
   "outputs": [],
   "source": [
    "# !wget https://github.com/DataTalksClub/nyc-tlc-data/releases/download/fhvhv/fhvhv_tripdata_2021-01.csv.gz"
   ]
  },
  {
   "cell_type": "code",
   "execution_count": 4,
   "id": "0f349a8f",
   "metadata": {},
   "outputs": [],
   "source": [
    "# !gunzip fhvhv_tripdata_2021-01.csv.gz"
   ]
  },
  {
   "cell_type": "code",
   "execution_count": 5,
   "id": "2a52087c",
   "metadata": {},
   "outputs": [
    {
     "name": "stdout",
     "output_type": "stream",
     "text": [
      "11908469 fhvhv_tripdata_2021-01.csv\n"
     ]
    }
   ],
   "source": [
    "!wc -l fhvhv_tripdata_2021-01.csv"
   ]
  },
  {
   "cell_type": "code",
   "execution_count": 6,
   "id": "931021a7",
   "metadata": {},
   "outputs": [],
   "source": [
    "df = spark.read.option(\"header\", \"true\").csv(\"fhvhv_tripdata_2021-01.csv\")"
   ]
  },
  {
   "cell_type": "code",
   "execution_count": 7,
   "id": "d44b7839",
   "metadata": {},
   "outputs": [
    {
     "name": "stdout",
     "output_type": "stream",
     "text": [
      "root\n",
      " |-- hvfhs_license_num: string (nullable = true)\n",
      " |-- dispatching_base_num: string (nullable = true)\n",
      " |-- pickup_datetime: string (nullable = true)\n",
      " |-- dropoff_datetime: string (nullable = true)\n",
      " |-- PULocationID: string (nullable = true)\n",
      " |-- DOLocationID: string (nullable = true)\n",
      " |-- SR_Flag: string (nullable = true)\n",
      "\n"
     ]
    }
   ],
   "source": [
    "df.printSchema()"
   ]
  },
  {
   "cell_type": "code",
   "execution_count": 8,
   "id": "a87ecd08",
   "metadata": {},
   "outputs": [
    {
     "data": {
      "text/plain": [
       "[Row(hvfhs_license_num='HV0003', dispatching_base_num='B02682', pickup_datetime='2021-01-01 00:33:44', dropoff_datetime='2021-01-01 00:49:07', PULocationID='230', DOLocationID='166', SR_Flag=None),\n",
       " Row(hvfhs_license_num='HV0003', dispatching_base_num='B02682', pickup_datetime='2021-01-01 00:55:19', dropoff_datetime='2021-01-01 01:18:21', PULocationID='152', DOLocationID='167', SR_Flag=None),\n",
       " Row(hvfhs_license_num='HV0003', dispatching_base_num='B02764', pickup_datetime='2021-01-01 00:23:56', dropoff_datetime='2021-01-01 00:38:05', PULocationID='233', DOLocationID='142', SR_Flag=None)]"
      ]
     },
     "execution_count": 8,
     "metadata": {},
     "output_type": "execute_result"
    }
   ],
   "source": [
    "df.head(3)"
   ]
  },
  {
   "cell_type": "code",
   "execution_count": 9,
   "id": "4249e790",
   "metadata": {},
   "outputs": [],
   "source": [
    "!head -n 1001 fhvhv_tripdata_2021-01.csv > head.csv"
   ]
  },
  {
   "cell_type": "code",
   "execution_count": 10,
   "id": "f3ca771b",
   "metadata": {},
   "outputs": [],
   "source": [
    "df_pandas = pd.read_csv(\"head.csv\")"
   ]
  },
  {
   "cell_type": "code",
   "execution_count": 11,
   "id": "f1066b4f",
   "metadata": {},
   "outputs": [
    {
     "data": {
      "text/plain": [
       "hvfhs_license_num        object\n",
       "dispatching_base_num     object\n",
       "pickup_datetime          object\n",
       "dropoff_datetime         object\n",
       "PULocationID              int64\n",
       "DOLocationID              int64\n",
       "SR_Flag                 float64\n",
       "dtype: object"
      ]
     },
     "execution_count": 11,
     "metadata": {},
     "output_type": "execute_result"
    }
   ],
   "source": [
    "df_pandas.dtypes"
   ]
  },
  {
   "cell_type": "code",
   "execution_count": 12,
   "id": "f8413c9d",
   "metadata": {},
   "outputs": [
    {
     "name": "stdout",
     "output_type": "stream",
     "text": [
      "root\n",
      " |-- hvfhs_license_num: string (nullable = true)\n",
      " |-- dispatching_base_num: string (nullable = true)\n",
      " |-- pickup_datetime: string (nullable = true)\n",
      " |-- dropoff_datetime: string (nullable = true)\n",
      " |-- PULocationID: long (nullable = true)\n",
      " |-- DOLocationID: long (nullable = true)\n",
      " |-- SR_Flag: double (nullable = true)\n",
      "\n"
     ]
    }
   ],
   "source": [
    "spark.createDataFrame(df_pandas).printSchema()"
   ]
  },
  {
   "cell_type": "markdown",
   "id": "80f252c1",
   "metadata": {},
   "source": [
    "Integer - 4 bytes  \n",
    "Long - 8 bytes"
   ]
  },
  {
   "cell_type": "code",
   "execution_count": 13,
   "id": "fc61a99a",
   "metadata": {},
   "outputs": [],
   "source": [
    "schema = types.StructType(\n",
    "    [\n",
    "        types.StructField(\"hvfhs_license_num\", types.StringType(), True),\n",
    "        types.StructField(\"dispatching_base_num\", types.StringType(), True),\n",
    "        types.StructField(\"pickup_datetime\", types.TimestampType(), True),\n",
    "        types.StructField(\"dropoff_datetime\", types.TimestampType(), True),\n",
    "        types.StructField(\"PULocationID\", types.IntegerType(), True),\n",
    "        types.StructField(\"DOLocationID\", types.IntegerType(), True),\n",
    "        types.StructField(\"SR_Flag\", types.StringType(), True),\n",
    "    ]\n",
    ")"
   ]
  },
  {
   "cell_type": "code",
   "execution_count": 14,
   "id": "f94052ae",
   "metadata": {},
   "outputs": [],
   "source": [
    "df = (\n",
    "    spark.read.option(\"header\", \"true\").schema(schema).csv(\"fhvhv_tripdata_2021-01.csv\")\n",
    ")"
   ]
  },
  {
   "cell_type": "code",
   "execution_count": 15,
   "id": "d992e281",
   "metadata": {},
   "outputs": [
    {
     "name": "stdout",
     "output_type": "stream",
     "text": [
      "root\n",
      " |-- hvfhs_license_num: string (nullable = true)\n",
      " |-- dispatching_base_num: string (nullable = true)\n",
      " |-- pickup_datetime: timestamp (nullable = true)\n",
      " |-- dropoff_datetime: timestamp (nullable = true)\n",
      " |-- PULocationID: integer (nullable = true)\n",
      " |-- DOLocationID: integer (nullable = true)\n",
      " |-- SR_Flag: string (nullable = true)\n",
      "\n"
     ]
    }
   ],
   "source": [
    "df.printSchema()"
   ]
  },
  {
   "cell_type": "code",
   "execution_count": 16,
   "id": "586d8ba9",
   "metadata": {},
   "outputs": [
    {
     "data": {
      "text/plain": [
       "[Row(hvfhs_license_num='HV0003', dispatching_base_num='B02682', pickup_datetime=datetime.datetime(2021, 1, 1, 0, 33, 44), dropoff_datetime=datetime.datetime(2021, 1, 1, 0, 49, 7), PULocationID=230, DOLocationID=166, SR_Flag=None),\n",
       " Row(hvfhs_license_num='HV0003', dispatching_base_num='B02682', pickup_datetime=datetime.datetime(2021, 1, 1, 0, 55, 19), dropoff_datetime=datetime.datetime(2021, 1, 1, 1, 18, 21), PULocationID=152, DOLocationID=167, SR_Flag=None),\n",
       " Row(hvfhs_license_num='HV0003', dispatching_base_num='B02764', pickup_datetime=datetime.datetime(2021, 1, 1, 0, 23, 56), dropoff_datetime=datetime.datetime(2021, 1, 1, 0, 38, 5), PULocationID=233, DOLocationID=142, SR_Flag=None)]"
      ]
     },
     "execution_count": 16,
     "metadata": {},
     "output_type": "execute_result"
    }
   ],
   "source": [
    "df.head(3)"
   ]
  },
  {
   "cell_type": "code",
   "execution_count": 17,
   "id": "0bf78bf2",
   "metadata": {},
   "outputs": [
    {
     "data": {
      "text/plain": [
       "6"
      ]
     },
     "execution_count": 17,
     "metadata": {},
     "output_type": "execute_result"
    }
   ],
   "source": [
    "df.rdd.getNumPartitions()"
   ]
  },
  {
   "cell_type": "code",
   "execution_count": 18,
   "id": "9c496c7d",
   "metadata": {},
   "outputs": [
    {
     "data": {
      "text/plain": [
       "5.609375"
      ]
     },
     "execution_count": 18,
     "metadata": {},
     "output_type": "execute_result"
    }
   ],
   "source": [
    "718 / 128  # file size / block size"
   ]
  },
  {
   "cell_type": "code",
   "execution_count": 19,
   "id": "c270d9d6",
   "metadata": {},
   "outputs": [],
   "source": [
    "df = df.repartition(24)"
   ]
  },
  {
   "cell_type": "code",
   "execution_count": 20,
   "id": "7796c2b2",
   "metadata": {},
   "outputs": [
    {
     "name": "stderr",
     "output_type": "stream",
     "text": [
      "                                                                                \r"
     ]
    }
   ],
   "source": [
    "df.write.parquet(\"fhvhv/2021/01/\")"
   ]
  },
  {
   "cell_type": "code",
   "execution_count": 21,
   "id": "b76c1872",
   "metadata": {},
   "outputs": [
    {
     "name": "stderr",
     "output_type": "stream",
     "text": [
      "[Stage 6:=================================================>         (5 + 1) / 6]\r"
     ]
    },
    {
     "data": {
      "text/plain": [
       "24"
      ]
     },
     "execution_count": 21,
     "metadata": {},
     "output_type": "execute_result"
    }
   ],
   "source": [
    "df.rdd.getNumPartitions()"
   ]
  },
  {
   "cell_type": "code",
   "execution_count": 22,
   "id": "e8a9bcd4",
   "metadata": {},
   "outputs": [
    {
     "name": "stdout",
     "output_type": "stream",
     "text": [
      "\u001b[01;34mfhvhv\u001b[0m\n",
      "└── \u001b[01;34m2021\u001b[0m\n",
      "    └── \u001b[01;34m01\u001b[0m\n",
      "        ├── _SUCCESS\n",
      "        ├── part-00000-9a113357-3524-412c-8e12-cdc3b33748bf-c000.snappy.parquet\n",
      "        ├── part-00001-9a113357-3524-412c-8e12-cdc3b33748bf-c000.snappy.parquet\n",
      "        ├── part-00002-9a113357-3524-412c-8e12-cdc3b33748bf-c000.snappy.parquet\n",
      "        ├── part-00003-9a113357-3524-412c-8e12-cdc3b33748bf-c000.snappy.parquet\n",
      "        ├── part-00004-9a113357-3524-412c-8e12-cdc3b33748bf-c000.snappy.parquet\n",
      "        ├── part-00005-9a113357-3524-412c-8e12-cdc3b33748bf-c000.snappy.parquet\n",
      "        ├── part-00006-9a113357-3524-412c-8e12-cdc3b33748bf-c000.snappy.parquet\n",
      "        ├── part-00007-9a113357-3524-412c-8e12-cdc3b33748bf-c000.snappy.parquet\n",
      "        ├── part-00008-9a113357-3524-412c-8e12-cdc3b33748bf-c000.snappy.parquet\n",
      "        ├── part-00009-9a113357-3524-412c-8e12-cdc3b33748bf-c000.snappy.parquet\n",
      "        ├── part-00010-9a113357-3524-412c-8e12-cdc3b33748bf-c000.snappy.parquet\n",
      "        ├── part-00011-9a113357-3524-412c-8e12-cdc3b33748bf-c000.snappy.parquet\n",
      "        ├── part-00012-9a113357-3524-412c-8e12-cdc3b33748bf-c000.snappy.parquet\n",
      "        ├── part-00013-9a113357-3524-412c-8e12-cdc3b33748bf-c000.snappy.parquet\n",
      "        ├── part-00014-9a113357-3524-412c-8e12-cdc3b33748bf-c000.snappy.parquet\n",
      "        ├── part-00015-9a113357-3524-412c-8e12-cdc3b33748bf-c000.snappy.parquet\n",
      "        ├── part-00016-9a113357-3524-412c-8e12-cdc3b33748bf-c000.snappy.parquet\n",
      "        ├── part-00017-9a113357-3524-412c-8e12-cdc3b33748bf-c000.snappy.parquet\n",
      "        ├── part-00018-9a113357-3524-412c-8e12-cdc3b33748bf-c000.snappy.parquet\n",
      "        ├── part-00019-9a113357-3524-412c-8e12-cdc3b33748bf-c000.snappy.parquet\n",
      "        ├── part-00020-9a113357-3524-412c-8e12-cdc3b33748bf-c000.snappy.parquet\n",
      "        ├── part-00021-9a113357-3524-412c-8e12-cdc3b33748bf-c000.snappy.parquet\n",
      "        ├── part-00022-9a113357-3524-412c-8e12-cdc3b33748bf-c000.snappy.parquet\n",
      "        └── part-00023-9a113357-3524-412c-8e12-cdc3b33748bf-c000.snappy.parquet\n",
      "\n",
      "2 directories, 25 files\n"
     ]
    }
   ],
   "source": [
    "!tree fhvhv"
   ]
  },
  {
   "cell_type": "code",
   "execution_count": 23,
   "id": "c3cab876",
   "metadata": {},
   "outputs": [
    {
     "name": "stderr",
     "output_type": "stream",
     "text": [
      "                                                                                \r"
     ]
    }
   ],
   "source": [
    "df = spark.read.parquet(\"fhvhv/2021/01/\")"
   ]
  },
  {
   "cell_type": "code",
   "execution_count": 24,
   "id": "c1d8bc1e",
   "metadata": {},
   "outputs": [
    {
     "data": {
      "text/plain": [
       "11908468"
      ]
     },
     "execution_count": 24,
     "metadata": {},
     "output_type": "execute_result"
    }
   ],
   "source": [
    "df.count()"
   ]
  },
  {
   "cell_type": "code",
   "execution_count": 25,
   "id": "203b5627",
   "metadata": {},
   "outputs": [
    {
     "name": "stdout",
     "output_type": "stream",
     "text": [
      "root\n",
      " |-- hvfhs_license_num: string (nullable = true)\n",
      " |-- dispatching_base_num: string (nullable = true)\n",
      " |-- pickup_datetime: timestamp (nullable = true)\n",
      " |-- dropoff_datetime: timestamp (nullable = true)\n",
      " |-- PULocationID: integer (nullable = true)\n",
      " |-- DOLocationID: integer (nullable = true)\n",
      " |-- SR_Flag: string (nullable = true)\n",
      "\n"
     ]
    }
   ],
   "source": [
    "df.printSchema()"
   ]
  },
  {
   "cell_type": "markdown",
   "id": "64172a47",
   "metadata": {},
   "source": [
    "SELECT * FROM df WHERE hvfhs_license_num =  HV0003"
   ]
  },
  {
   "cell_type": "code",
   "execution_count": 26,
   "id": "3ab1ca44",
   "metadata": {
    "scrolled": true
   },
   "outputs": [
    {
     "name": "stdout",
     "output_type": "stream",
     "text": [
      "+-----------------+--------------------+-------------------+-------------------+------------+------------+-------+\n",
      "|hvfhs_license_num|dispatching_base_num|    pickup_datetime|   dropoff_datetime|PULocationID|DOLocationID|SR_Flag|\n",
      "+-----------------+--------------------+-------------------+-------------------+------------+------------+-------+\n",
      "|           HV0005|              B02510|2021-01-03 17:17:21|2021-01-03 17:26:18|         255|          34|   null|\n",
      "|           HV0003|              B02882|2021-01-05 22:14:07|2021-01-05 22:32:28|         189|         107|   null|\n",
      "|           HV0003|              B02867|2021-01-02 17:59:55|2021-01-02 18:10:39|          88|         137|   null|\n",
      "|           HV0003|              B02872|2021-01-02 23:57:54|2021-01-03 00:15:48|         238|         224|   null|\n",
      "|           HV0003|              B02875|2021-01-06 15:53:13|2021-01-06 16:07:07|         169|         208|   null|\n",
      "|           HV0003|              B02867|2021-01-07 07:35:24|2021-01-07 07:55:49|          75|          88|   null|\n",
      "|           HV0003|              B02764|2021-01-07 08:45:12|2021-01-07 08:51:17|         210|         210|   null|\n",
      "|           HV0003|              B02764|2021-01-02 15:44:26|2021-01-02 16:10:50|         243|          69|   null|\n",
      "|           HV0003|              B02869|2021-01-04 16:50:28|2021-01-04 16:57:43|         250|         213|   null|\n",
      "|           HV0003|              B02877|2021-01-03 10:30:34|2021-01-03 10:44:53|          87|          79|   null|\n",
      "|           HV0003|              B02617|2021-01-03 22:05:20|2021-01-03 22:27:55|          68|         181|   null|\n",
      "|           HV0003|              B02765|2021-01-04 08:01:02|2021-01-04 08:33:27|          95|         236|   null|\n",
      "|           HV0003|              B02835|2021-01-02 13:01:10|2021-01-02 13:08:11|         262|         236|   null|\n",
      "|           HV0005|              B02510|2021-01-04 05:25:51|2021-01-04 05:45:19|         225|         233|   null|\n",
      "|           HV0003|              B02836|2021-01-06 17:12:27|2021-01-06 17:46:56|         237|          83|   null|\n",
      "|           HV0005|              B02510|2021-01-05 07:07:33|2021-01-05 07:16:16|         231|          87|   null|\n",
      "|           HV0005|              B02510|2021-01-06 11:21:01|2021-01-06 11:31:58|          22|          26|   null|\n",
      "|           HV0003|              B02682|2021-01-04 09:05:18|2021-01-04 09:27:50|         159|          75|   null|\n",
      "|           HV0003|              B02869|2021-01-06 16:46:47|2021-01-06 17:50:24|         109|         119|   null|\n",
      "|           HV0003|              B02883|2021-01-06 08:03:47|2021-01-06 08:17:43|         145|         229|   null|\n",
      "+-----------------+--------------------+-------------------+-------------------+------------+------------+-------+\n",
      "only showing top 20 rows\n",
      "\n"
     ]
    }
   ],
   "source": [
    "df.show()"
   ]
  },
  {
   "cell_type": "code",
   "execution_count": 27,
   "id": "6d98c2ce",
   "metadata": {},
   "outputs": [],
   "source": [
    "def crazy_stuff(base_num):\n",
    "    num = int(base_num[1:])\n",
    "    if num % 7 == 0:\n",
    "        return f\"s/{num:03x}\"\n",
    "    elif num % 3 == 0:\n",
    "        return f\"a/{num:03x}\"\n",
    "    else:\n",
    "        return f\"e/{num:03x}\""
   ]
  },
  {
   "cell_type": "code",
   "execution_count": 28,
   "id": "f3175419",
   "metadata": {},
   "outputs": [
    {
     "data": {
      "text/plain": [
       "'s/b44'"
      ]
     },
     "execution_count": 28,
     "metadata": {},
     "output_type": "execute_result"
    }
   ],
   "source": [
    "crazy_stuff(\"B02884\")"
   ]
  },
  {
   "cell_type": "code",
   "execution_count": 29,
   "id": "9bb5d503",
   "metadata": {},
   "outputs": [],
   "source": [
    "crazy_stuff_udf = F.udf(crazy_stuff, returnType=types.StringType())"
   ]
  },
  {
   "cell_type": "code",
   "execution_count": 30,
   "id": "b38f0465",
   "metadata": {
    "scrolled": true
   },
   "outputs": [
    {
     "name": "stderr",
     "output_type": "stream",
     "text": [
      "[Stage 12:>                                                         (0 + 1) / 1]\r"
     ]
    },
    {
     "name": "stdout",
     "output_type": "stream",
     "text": [
      "+-------+-----------+------------+------------+------------+\n",
      "|base_id|pickup_date|dropoff_date|PULocationID|DOLocationID|\n",
      "+-------+-----------+------------+------------+------------+\n",
      "|  e/9ce| 2021-01-03|  2021-01-03|         255|          34|\n",
      "|  e/b42| 2021-01-05|  2021-01-05|         189|         107|\n",
      "|  e/b33| 2021-01-02|  2021-01-02|          88|         137|\n",
      "|  e/b38| 2021-01-02|  2021-01-03|         238|         224|\n",
      "|  e/b3b| 2021-01-06|  2021-01-06|         169|         208|\n",
      "|  e/b33| 2021-01-07|  2021-01-07|          75|          88|\n",
      "|  e/acc| 2021-01-07|  2021-01-07|         210|         210|\n",
      "|  e/acc| 2021-01-02|  2021-01-02|         243|          69|\n",
      "|  e/b35| 2021-01-04|  2021-01-04|         250|         213|\n",
      "|  s/b3d| 2021-01-03|  2021-01-03|          87|          79|\n",
      "|  e/a39| 2021-01-03|  2021-01-03|          68|         181|\n",
      "|  s/acd| 2021-01-04|  2021-01-04|          95|         236|\n",
      "|  s/b13| 2021-01-02|  2021-01-02|         262|         236|\n",
      "|  e/9ce| 2021-01-04|  2021-01-04|         225|         233|\n",
      "|  e/b14| 2021-01-06|  2021-01-06|         237|          83|\n",
      "|  e/9ce| 2021-01-05|  2021-01-05|         231|          87|\n",
      "|  e/9ce| 2021-01-06|  2021-01-06|          22|          26|\n",
      "|  a/a7a| 2021-01-04|  2021-01-04|         159|          75|\n",
      "|  e/b35| 2021-01-06|  2021-01-06|         109|         119|\n",
      "|  a/b43| 2021-01-06|  2021-01-06|         145|         229|\n",
      "+-------+-----------+------------+------------+------------+\n",
      "only showing top 20 rows\n",
      "\n"
     ]
    },
    {
     "name": "stderr",
     "output_type": "stream",
     "text": [
      "                                                                                \r"
     ]
    }
   ],
   "source": [
    "(\n",
    "    df.withColumn(\"pickup_date\", F.to_date(df.pickup_datetime))\n",
    "    .withColumn(\"dropoff_date\", F.to_date(df.dropoff_datetime))\n",
    "    .withColumn(\"base_id\", crazy_stuff_udf(df.dispatching_base_num))\n",
    "    .select(\"base_id\", \"pickup_date\", \"dropoff_date\", \"PULocationID\", \"DOLocationID\")\n",
    "    .show()\n",
    ")"
   ]
  },
  {
   "cell_type": "code",
   "execution_count": 31,
   "id": "00921644",
   "metadata": {},
   "outputs": [
    {
     "name": "stdout",
     "output_type": "stream",
     "text": [
      "+-------------------+-------------------+------------+------------+-----------------+\n",
      "|    pickup_datetime|   dropoff_datetime|PULocationID|DOLocationID|hvfhs_license_num|\n",
      "+-------------------+-------------------+------------+------------+-----------------+\n",
      "|2021-01-05 22:14:07|2021-01-05 22:32:28|         189|         107|           HV0003|\n",
      "|2021-01-02 17:59:55|2021-01-02 18:10:39|          88|         137|           HV0003|\n",
      "|2021-01-02 23:57:54|2021-01-03 00:15:48|         238|         224|           HV0003|\n",
      "|2021-01-06 15:53:13|2021-01-06 16:07:07|         169|         208|           HV0003|\n",
      "|2021-01-07 07:35:24|2021-01-07 07:55:49|          75|          88|           HV0003|\n",
      "|2021-01-07 08:45:12|2021-01-07 08:51:17|         210|         210|           HV0003|\n",
      "|2021-01-02 15:44:26|2021-01-02 16:10:50|         243|          69|           HV0003|\n",
      "|2021-01-04 16:50:28|2021-01-04 16:57:43|         250|         213|           HV0003|\n",
      "|2021-01-03 10:30:34|2021-01-03 10:44:53|          87|          79|           HV0003|\n",
      "|2021-01-03 22:05:20|2021-01-03 22:27:55|          68|         181|           HV0003|\n",
      "|2021-01-04 08:01:02|2021-01-04 08:33:27|          95|         236|           HV0003|\n",
      "|2021-01-02 13:01:10|2021-01-02 13:08:11|         262|         236|           HV0003|\n",
      "|2021-01-06 17:12:27|2021-01-06 17:46:56|         237|          83|           HV0003|\n",
      "|2021-01-04 09:05:18|2021-01-04 09:27:50|         159|          75|           HV0003|\n",
      "|2021-01-06 16:46:47|2021-01-06 17:50:24|         109|         119|           HV0003|\n",
      "|2021-01-06 08:03:47|2021-01-06 08:17:43|         145|         229|           HV0003|\n",
      "|2021-01-04 06:45:42|2021-01-04 06:55:01|         250|         212|           HV0003|\n",
      "|2021-01-03 13:20:41|2021-01-03 13:31:11|         130|          28|           HV0003|\n",
      "|2021-01-03 17:30:33|2021-01-03 17:45:19|          81|          46|           HV0003|\n",
      "|2021-01-06 20:55:57|2021-01-06 21:02:01|         113|          79|           HV0003|\n",
      "+-------------------+-------------------+------------+------------+-----------------+\n",
      "only showing top 20 rows\n",
      "\n"
     ]
    }
   ],
   "source": [
    "(\n",
    "    df.select(\n",
    "        \"pickup_datetime\",\n",
    "        \"dropoff_datetime\",\n",
    "        \"PULocationID\",\n",
    "        \"DOLocationID\",\n",
    "        \"hvfhs_license_num\",\n",
    "    )\n",
    "    .filter(df.hvfhs_license_num == \"HV0003\")\n",
    "    .show()\n",
    ")"
   ]
  }
 ],
 "metadata": {
  "kernelspec": {
   "display_name": "Python 3 (ipykernel)",
   "language": "python",
   "name": "python3"
  },
  "language_info": {
   "codemirror_mode": {
    "name": "ipython",
    "version": 3
   },
   "file_extension": ".py",
   "mimetype": "text/x-python",
   "name": "python",
   "nbconvert_exporter": "python",
   "pygments_lexer": "ipython3",
   "version": "3.9.13"
  }
 },
 "nbformat": 4,
 "nbformat_minor": 5
}
