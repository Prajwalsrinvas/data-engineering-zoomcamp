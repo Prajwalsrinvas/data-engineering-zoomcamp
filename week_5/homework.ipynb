{
 "cells": [
  {
   "cell_type": "code",
   "execution_count": 1,
   "id": "00bc6543",
   "metadata": {},
   "outputs": [],
   "source": [
    "from pyspark.sql import SparkSession\n",
    "from pyspark.sql import functions as F"
   ]
  },
  {
   "cell_type": "code",
   "execution_count": 2,
   "id": "cd4a0f3d",
   "metadata": {},
   "outputs": [
    {
     "name": "stderr",
     "output_type": "stream",
     "text": [
      "Setting default log level to \"WARN\".\n",
      "To adjust logging level use sc.setLogLevel(newLevel). For SparkR, use setLogLevel(newLevel).\n"
     ]
    },
    {
     "name": "stdout",
     "output_type": "stream",
     "text": [
      "23/03/09 20:59:50 WARN NativeCodeLoader: Unable to load native-hadoop library for your platform... using builtin-java classes where applicable\n",
      "23/03/09 20:59:51 WARN Utils: Service 'SparkUI' could not bind on port 4040. Attempting port 4041.\n"
     ]
    }
   ],
   "source": [
    "spark = SparkSession.builder.master(\"local[*]\").appName(\"test\").getOrCreate()"
   ]
  },
  {
   "cell_type": "markdown",
   "id": "62cbe97d-4fe8-48b0-bf31-660db27ff52f",
   "metadata": {},
   "source": [
    "## Question 1:"
   ]
  },
  {
   "cell_type": "code",
   "execution_count": 3,
   "id": "eb3e4c36",
   "metadata": {},
   "outputs": [
    {
     "data": {
      "text/plain": [
       "'3.3.2'"
      ]
     },
     "execution_count": 3,
     "metadata": {},
     "output_type": "execute_result"
    }
   ],
   "source": [
    "spark.version"
   ]
  },
  {
   "cell_type": "markdown",
   "id": "677e5a29-f35c-4246-aa1a-4828d17ba5bf",
   "metadata": {},
   "source": [
    "## Question 2:"
   ]
  },
  {
   "cell_type": "code",
   "execution_count": 4,
   "id": "3ba26a56-f6d7-4ade-86df-e77bb2db374a",
   "metadata": {},
   "outputs": [],
   "source": [
    "# !wget https://github.com/DataTalksClub/nyc-tlc-data/releases/download/fhvhv/fhvhv_tripdata_2021-06.csv.gz"
   ]
  },
  {
   "cell_type": "code",
   "execution_count": 5,
   "id": "2204a153-de93-4279-80ee-45db6aa3105f",
   "metadata": {},
   "outputs": [],
   "source": [
    "# !gunzip fhvhv_tripdata_2021-06.csv.gz"
   ]
  },
  {
   "cell_type": "code",
   "execution_count": 6,
   "id": "68bc8b72",
   "metadata": {},
   "outputs": [
    {
     "name": "stderr",
     "output_type": "stream",
     "text": [
      "                                                                                \r"
     ]
    }
   ],
   "source": [
    "df = spark.read.options(header=True, inferSchema=True).csv(\"fhvhv_tripdata_2021-06.csv\")\n",
    "\n",
    "df = df.repartition(12)\n",
    "\n",
    "df.write.parquet(\"data/pq/fhvhv/2021/06/\")"
   ]
  },
  {
   "cell_type": "code",
   "execution_count": 7,
   "id": "eea77a68-5a28-4ba3-a72a-6aa77f384112",
   "metadata": {},
   "outputs": [
    {
     "name": "stdout",
     "output_type": "stream",
     "text": [
      "-rw-r--r-- 1 prajwal prajwal 23M Mar  9 21:00 data/pq/fhvhv/2021/06/part-00000-3226d84e-6321-4a7d-b6e8-9c1a435f73cb-c000.snappy.parquet\n"
     ]
    }
   ],
   "source": [
    "!ls -lh data/pq/fhvhv/2021/06/part-00000-3226d84e-6321-4a7d-b6e8-9c1a435f73cb-c000.snappy.parquet"
   ]
  },
  {
   "cell_type": "markdown",
   "id": "48b01d2f",
   "metadata": {},
   "source": [
    "## Question 3:"
   ]
  },
  {
   "cell_type": "code",
   "execution_count": 8,
   "id": "6c2500fd",
   "metadata": {},
   "outputs": [
    {
     "name": "stderr",
     "output_type": "stream",
     "text": [
      "                                                                                \r"
     ]
    },
    {
     "data": {
      "text/plain": [
       "452470"
      ]
     },
     "execution_count": 8,
     "metadata": {},
     "output_type": "execute_result"
    }
   ],
   "source": [
    "df.withColumn(\"pickup_date\", F.to_date(df.pickup_datetime)).filter(\n",
    "    \"pickup_date = '2021-06-15'\"\n",
    ").count()"
   ]
  },
  {
   "cell_type": "markdown",
   "id": "ae3f533b",
   "metadata": {},
   "source": [
    "## Question 4:"
   ]
  },
  {
   "cell_type": "code",
   "execution_count": 11,
   "id": "7befe422",
   "metadata": {},
   "outputs": [
    {
     "data": {
      "text/plain": [
       "['dispatching_base_num',\n",
       " 'pickup_datetime',\n",
       " 'dropoff_datetime',\n",
       " 'PULocationID',\n",
       " 'DOLocationID',\n",
       " 'SR_Flag',\n",
       " 'Affiliated_base_number']"
      ]
     },
     "execution_count": 11,
     "metadata": {},
     "output_type": "execute_result"
    }
   ],
   "source": [
    "df.columns"
   ]
  },
  {
   "cell_type": "code",
   "execution_count": 12,
   "id": "279d9161",
   "metadata": {},
   "outputs": [
    {
     "name": "stderr",
     "output_type": "stream",
     "text": [
      "[Stage 19:======================================>                  (8 + 4) / 12]\r"
     ]
    },
    {
     "name": "stdout",
     "output_type": "stream",
     "text": [
      "+-----------+-------------+\n",
      "|pickup_date|max(duration)|\n",
      "+-----------+-------------+\n",
      "| 2021-06-25|       240764|\n",
      "| 2021-06-22|        91979|\n",
      "| 2021-06-27|        71931|\n",
      "| 2021-06-26|        65510|\n",
      "| 2021-06-23|        59281|\n",
      "+-----------+-------------+\n",
      "\n"
     ]
    },
    {
     "name": "stderr",
     "output_type": "stream",
     "text": [
      "                                                                                \r"
     ]
    }
   ],
   "source": [
    "(\n",
    "    df.withColumn(\n",
    "        \"duration\", df.dropoff_datetime.cast(\"long\") - df.pickup_datetime.cast(\"long\")\n",
    "    )\n",
    "    .withColumn(\"pickup_date\", F.to_date(df.pickup_datetime))\n",
    "    .groupBy(\"pickup_date\")\n",
    "    .max(\"duration\")\n",
    "    .orderBy(\"max(duration)\", ascending=False)\n",
    "    .limit(5)\n",
    "    .show()\n",
    ")"
   ]
  },
  {
   "cell_type": "code",
   "execution_count": 14,
   "id": "a8a0fe95-e0f5-4dc2-a7ae-3da788925c0e",
   "metadata": {},
   "outputs": [
    {
     "data": {
      "text/plain": [
       "66.87888888888888"
      ]
     },
     "execution_count": 14,
     "metadata": {},
     "output_type": "execute_result"
    }
   ],
   "source": [
    "240764 / 60 / 60"
   ]
  },
  {
   "cell_type": "markdown",
   "id": "0d10173a",
   "metadata": {},
   "source": [
    "## Question 5:"
   ]
  },
  {
   "cell_type": "markdown",
   "id": "3f8ca718-6ff4-404b-a059-b2563c4d6180",
   "metadata": {},
   "source": [
    "4040"
   ]
  },
  {
   "cell_type": "markdown",
   "id": "f055e201-e2b5-4e5e-ba80-1a404b09832f",
   "metadata": {},
   "source": [
    "## Question 6:"
   ]
  },
  {
   "cell_type": "code",
   "execution_count": 15,
   "id": "74b7f664",
   "metadata": {},
   "outputs": [],
   "source": [
    "df_zones = spark.read.parquet(\"zones\")"
   ]
  },
  {
   "cell_type": "code",
   "execution_count": 21,
   "id": "81642d3b",
   "metadata": {},
   "outputs": [
    {
     "name": "stdout",
     "output_type": "stream",
     "text": [
      "+----------+-------------+--------------------+------------+\n",
      "|LocationID|      Borough|                Zone|service_zone|\n",
      "+----------+-------------+--------------------+------------+\n",
      "|         1|          EWR|      Newark Airport|         EWR|\n",
      "|         2|       Queens|         Jamaica Bay|   Boro Zone|\n",
      "|         3|        Bronx|Allerton/Pelham G...|   Boro Zone|\n",
      "|         4|    Manhattan|       Alphabet City| Yellow Zone|\n",
      "|         5|Staten Island|       Arden Heights|   Boro Zone|\n",
      "|         6|Staten Island|Arrochar/Fort Wad...|   Boro Zone|\n",
      "|         7|       Queens|             Astoria|   Boro Zone|\n",
      "|         8|       Queens|        Astoria Park|   Boro Zone|\n",
      "|         9|       Queens|          Auburndale|   Boro Zone|\n",
      "|        10|       Queens|        Baisley Park|   Boro Zone|\n",
      "|        11|     Brooklyn|          Bath Beach|   Boro Zone|\n",
      "|        12|    Manhattan|        Battery Park| Yellow Zone|\n",
      "|        13|    Manhattan|   Battery Park City| Yellow Zone|\n",
      "|        14|     Brooklyn|           Bay Ridge|   Boro Zone|\n",
      "|        15|       Queens|Bay Terrace/Fort ...|   Boro Zone|\n",
      "|        16|       Queens|             Bayside|   Boro Zone|\n",
      "|        17|     Brooklyn|             Bedford|   Boro Zone|\n",
      "|        18|        Bronx|        Bedford Park|   Boro Zone|\n",
      "|        19|       Queens|           Bellerose|   Boro Zone|\n",
      "|        20|        Bronx|             Belmont|   Boro Zone|\n",
      "+----------+-------------+--------------------+------------+\n",
      "only showing top 20 rows\n",
      "\n"
     ]
    }
   ],
   "source": [
    "df_zones.show()"
   ]
  },
  {
   "cell_type": "code",
   "execution_count": 22,
   "id": "4f460dda",
   "metadata": {},
   "outputs": [
    {
     "name": "stderr",
     "output_type": "stream",
     "text": [
      "[Stage 33:=================================================>        (6 + 1) / 7]\r"
     ]
    },
    {
     "name": "stdout",
     "output_type": "stream",
     "text": [
      "+--------------------+-------------------+-------------------+------------+------------+-------+----------------------+\n",
      "|dispatching_base_num|    pickup_datetime|   dropoff_datetime|PULocationID|DOLocationID|SR_Flag|Affiliated_base_number|\n",
      "+--------------------+-------------------+-------------------+------------+------------+-------+----------------------+\n",
      "|              B02864|2021-06-04 14:18:02|2021-06-04 15:04:26|         231|         138|      N|                B02864|\n",
      "|              B02884|2021-06-03 12:30:12|2021-06-03 12:41:25|         207|         170|      N|                B02884|\n",
      "|              B02869|2021-06-02 11:47:07|2021-06-02 12:20:31|         231|         237|      N|                B02869|\n",
      "|              B02510|2021-06-04 21:40:42|2021-06-04 22:14:57|         140|          61|      N|                  null|\n",
      "|              B02864|2021-06-04 21:40:35|2021-06-04 22:02:21|         262|          33|      N|                B02864|\n",
      "|              B02510|2021-06-03 14:19:58|2021-06-03 14:29:12|         198|          37|      N|                  null|\n",
      "|              B02764|2021-06-04 07:05:37|2021-06-04 07:12:57|         237|         161|      N|                B02764|\n",
      "|              B02865|2021-06-01 19:33:29|2021-06-01 19:46:42|         163|         107|      N|                B02865|\n",
      "|              B02510|2021-06-02 11:51:05|2021-06-02 12:05:21|          39|          35|      N|                  null|\n",
      "|              B02884|2021-06-04 08:50:53|2021-06-04 09:06:45|         117|          27|      N|                B02884|\n",
      "|              B02884|2021-06-04 00:26:46|2021-06-04 00:35:51|          51|         254|      N|                B02884|\n",
      "|              B02872|2021-06-02 00:29:17|2021-06-02 00:51:16|          69|          32|      N|                B02872|\n",
      "|              B02764|2021-06-02 20:48:54|2021-06-02 21:00:38|          79|         234|      N|                B02764|\n",
      "|              B02872|2021-06-03 07:50:13|2021-06-03 07:56:46|          38|         191|      N|                B02872|\n",
      "|              B02875|2021-06-05 11:26:32|2021-06-05 11:51:01|         205|         205|      N|                B02875|\n",
      "|              B02865|2021-06-01 10:36:12|2021-06-01 10:52:13|         201|         210|      N|                B02865|\n",
      "|              B02510|2021-06-04 22:22:37|2021-06-04 22:41:04|          25|         223|      N|                  null|\n",
      "|              B02876|2021-06-05 09:47:38|2021-06-05 09:59:04|          28|         102|      N|                B02876|\n",
      "|              B02510|2021-06-02 18:28:33|2021-06-02 18:49:45|         174|         244|      N|                  null|\n",
      "|              B02869|2021-06-01 09:39:08|2021-06-01 09:50:20|         200|         174|      N|                B02869|\n",
      "+--------------------+-------------------+-------------------+------------+------------+-------+----------------------+\n",
      "only showing top 20 rows\n",
      "\n"
     ]
    },
    {
     "name": "stderr",
     "output_type": "stream",
     "text": [
      "                                                                                \r"
     ]
    }
   ],
   "source": [
    "df.show()"
   ]
  },
  {
   "cell_type": "code",
   "execution_count": 19,
   "id": "ad8f0101",
   "metadata": {},
   "outputs": [],
   "source": [
    "df_zones.registerTempTable(\"zones\")\n",
    "df.registerTempTable(\"fhvhv_2021_06\")"
   ]
  },
  {
   "cell_type": "code",
   "execution_count": 27,
   "id": "e4b754d1",
   "metadata": {},
   "outputs": [
    {
     "name": "stderr",
     "output_type": "stream",
     "text": [
      "[Stage 57:======================================>                  (8 + 4) / 12]\r"
     ]
    },
    {
     "name": "stdout",
     "output_type": "stream",
     "text": [
      "+------------+------+\n",
      "|PULocationID| count|\n",
      "+------------+------+\n",
      "|          61|231279|\n",
      "+------------+------+\n",
      "\n"
     ]
    },
    {
     "name": "stderr",
     "output_type": "stream",
     "text": [
      "                                                                                \r"
     ]
    }
   ],
   "source": [
    "df.groupby(\"PULocationID\").count().orderBy(\"count\", ascending=False).limit(1).show()"
   ]
  },
  {
   "cell_type": "code",
   "execution_count": 30,
   "id": "f2e41a2e-4bab-471a-93f6-2a270482302d",
   "metadata": {},
   "outputs": [
    {
     "name": "stdout",
     "output_type": "stream",
     "text": [
      "+----------+-------------------+\n",
      "|LocationID|               Zone|\n",
      "+----------+-------------------+\n",
      "|        61|Crown Heights North|\n",
      "+----------+-------------------+\n",
      "\n"
     ]
    }
   ],
   "source": [
    "(\n",
    "    df_zones.select(\n",
    "        \"LocationID\",\n",
    "        \"Zone\",\n",
    "    )\n",
    "    .filter(df_zones.LocationID == 61)\n",
    "    .show()\n",
    ")"
   ]
  },
  {
   "cell_type": "code",
   "execution_count": null,
   "id": "05874ef8-40e3-413c-a49e-f0efabdca8d0",
   "metadata": {},
   "outputs": [],
   "source": []
  }
 ],
 "metadata": {
  "kernelspec": {
   "display_name": "Python 3 (ipykernel)",
   "language": "python",
   "name": "python3"
  },
  "language_info": {
   "codemirror_mode": {
    "name": "ipython",
    "version": 3
   },
   "file_extension": ".py",
   "mimetype": "text/x-python",
   "name": "python",
   "nbconvert_exporter": "python",
   "pygments_lexer": "ipython3",
   "version": "3.9.13"
  }
 },
 "nbformat": 4,
 "nbformat_minor": 5
}
